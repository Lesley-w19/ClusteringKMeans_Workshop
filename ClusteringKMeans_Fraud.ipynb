{
 "cells": [
  {
   "cell_type": "markdown",
   "id": "4ddcff92",
   "metadata": {},
   "source": [
    "## Problem Analysis Workshop 3 — Clustering & K-Means (Fraud Detection)\n",
    "\n",
    "**Student:** Lesley Wanjiku Kamamo (ID: 8984971)  \n",
    "**Repo:** ClusteringKMeans_Workshop\n",
    "\n",
    "> This notebook demonstrates K-Means clustering for a **financial fraud detection** use case:\n",
    "> setup → data loading → cleaning → EDA → standardization/normalization → feature choice logic → best-k selection (elbow + silhouette) → clustering → interpretation → talking points.\n"
   ]
  },
  {
   "cell_type": "code",
   "execution_count": 2,
   "id": "91a661c0",
   "metadata": {},
   "outputs": [
    {
     "name": "stdout",
     "output_type": "stream",
     "text": [
      "Python: 3.12.1\n",
      "Working dir: e:\\CONESTOGA\\AI and ML\\DataAnalysisMath\\ClusteringKMeans_Workshop\n"
     ]
    }
   ],
   "source": [
    "# --- Setup & Configuration ---\n",
    "import sys, os, json, warnings\n",
    "from pathlib import Path\n",
    "import numpy as np\n",
    "import pandas as pd\n",
    "import matplotlib.pyplot as plt\n",
    "\n",
    "from sklearn.impute import SimpleImputer\n",
    "from sklearn.preprocessing import StandardScaler, MinMaxScaler\n",
    "from sklearn.cluster import KMeans\n",
    "from sklearn.metrics import silhouette_score\n",
    "from sklearn.decomposition import PCA\n",
    "\n",
    "warnings.filterwarnings(\"ignore\")\n",
    "SEED = 42\n",
    "np.random.seed(SEED)\n",
    "\n",
    "\n",
    "\n",
    "# Paths\n",
    "ROOT = Path.cwd()\n",
    "DATA_DIR = (ROOT / \"data\")\n",
    "ARTIFACTS = ROOT / \"images\"\n",
    "\n",
    "# plotting defaults\n",
    "plt.rcParams[\"figure.figsize\"] = (8, 5)\n",
    "plt.rcParams[\"axes.grid\"] = True\n",
    "\n",
    "print(\"Python:\", sys.version.split()[0])\n",
    "print(\"Working dir:\", Path.cwd())"
   ]
  },
  {
   "cell_type": "markdown",
   "id": "1ae26a3b",
   "metadata": {},
   "source": [
    "### How Clustering Applies (≈ 50 words)\n",
    "Clustering identifies groups of transactions that behave similarly based on value and channel.  \n",
    "By analyzing **TransactionAmount** and **Channel**, we uncover spending clusters that differ in magnitude and channel usage.  \n",
    "Such segmentation supports fraud detection by flagging clusters with unusually high amounts or rare channel combinations for further review.\n"
   ]
  },
  {
   "cell_type": "markdown",
   "id": "4617ab41",
   "metadata": {},
   "source": [
    "## Data Loading\n",
    "\n",
    "We load the transaction dataset from a local file or Kaggle input path. \n",
    "\n",
    "[KaggleDataLink](https://www.kaggle.com/code/sulaniishara/fraud-detection-clustering-anomaly-analysis/input)\n",
    "\n",
    "Only relevant columns (**TransactionAmount**, **Channel**) are read to save memory.  \n",
    "We preview a few rows and the data types to confirm successful import.\n"
   ]
  },
  {
   "cell_type": "code",
   "execution_count": 5,
   "id": "b4ee5c70",
   "metadata": {},
   "outputs": [
    {
     "name": "stdout",
     "output_type": "stream",
     "text": [
      "Using data path: e:\\CONESTOGA\\AI and ML\\DataAnalysisMath\\ClusteringKMeans_Workshop\\data\\bank_transactions_data_2.csv\n",
      "Shape: (2512, 16)\n"
     ]
    },
    {
     "data": {
      "application/vnd.microsoft.datawrangler.viewer.v0+json": {
       "columns": [
        {
         "name": "index",
         "rawType": "int64",
         "type": "integer"
        },
        {
         "name": "TransactionID",
         "rawType": "object",
         "type": "string"
        },
        {
         "name": "AccountID",
         "rawType": "object",
         "type": "string"
        },
        {
         "name": "TransactionAmount",
         "rawType": "float64",
         "type": "float"
        },
        {
         "name": "TransactionDate",
         "rawType": "object",
         "type": "string"
        },
        {
         "name": "TransactionType",
         "rawType": "object",
         "type": "string"
        },
        {
         "name": "Location",
         "rawType": "object",
         "type": "string"
        },
        {
         "name": "DeviceID",
         "rawType": "object",
         "type": "string"
        },
        {
         "name": "IP Address",
         "rawType": "object",
         "type": "string"
        },
        {
         "name": "MerchantID",
         "rawType": "object",
         "type": "string"
        },
        {
         "name": "Channel",
         "rawType": "object",
         "type": "string"
        },
        {
         "name": "CustomerAge",
         "rawType": "int64",
         "type": "integer"
        },
        {
         "name": "CustomerOccupation",
         "rawType": "object",
         "type": "string"
        },
        {
         "name": "TransactionDuration",
         "rawType": "int64",
         "type": "integer"
        },
        {
         "name": "LoginAttempts",
         "rawType": "int64",
         "type": "integer"
        },
        {
         "name": "AccountBalance",
         "rawType": "float64",
         "type": "float"
        },
        {
         "name": "PreviousTransactionDate",
         "rawType": "object",
         "type": "string"
        }
       ],
       "ref": "1256ffeb-982c-40dc-bfff-8c3c08112ba0",
       "rows": [
        [
         "0",
         "TX000001",
         "AC00128",
         "14.09",
         "2023-04-11 16:29:14",
         "Debit",
         "San Diego",
         "D000380",
         "162.198.218.92",
         "M015",
         "ATM",
         "70",
         "Doctor",
         "81",
         "1",
         "5112.21",
         "2024-11-04 08:08:08"
        ],
        [
         "1",
         "TX000002",
         "AC00455",
         "376.24",
         "2023-06-27 16:44:19",
         "Debit",
         "Houston",
         "D000051",
         "13.149.61.4",
         "M052",
         "ATM",
         "68",
         "Doctor",
         "141",
         "1",
         "13758.91",
         "2024-11-04 08:09:35"
        ],
        [
         "2",
         "TX000003",
         "AC00019",
         "126.29",
         "2023-07-10 18:16:08",
         "Debit",
         "Mesa",
         "D000235",
         "215.97.143.157",
         "M009",
         "Online",
         "19",
         "Student",
         "56",
         "1",
         "1122.35",
         "2024-11-04 08:07:04"
        ],
        [
         "3",
         "TX000004",
         "AC00070",
         "184.5",
         "2023-05-05 16:32:11",
         "Debit",
         "Raleigh",
         "D000187",
         "200.13.225.150",
         "M002",
         "Online",
         "26",
         "Student",
         "25",
         "1",
         "8569.06",
         "2024-11-04 08:09:06"
        ],
        [
         "4",
         "TX000005",
         "AC00411",
         "13.45",
         "2023-10-16 17:51:24",
         "Credit",
         "Atlanta",
         "D000308",
         "65.164.3.100",
         "M091",
         "Online",
         "26",
         "Student",
         "198",
         "1",
         "7429.4",
         "2024-11-04 08:06:39"
        ]
       ],
       "shape": {
        "columns": 16,
        "rows": 5
       }
      },
      "text/html": [
       "<div>\n",
       "<style scoped>\n",
       "    .dataframe tbody tr th:only-of-type {\n",
       "        vertical-align: middle;\n",
       "    }\n",
       "\n",
       "    .dataframe tbody tr th {\n",
       "        vertical-align: top;\n",
       "    }\n",
       "\n",
       "    .dataframe thead th {\n",
       "        text-align: right;\n",
       "    }\n",
       "</style>\n",
       "<table border=\"1\" class=\"dataframe\">\n",
       "  <thead>\n",
       "    <tr style=\"text-align: right;\">\n",
       "      <th></th>\n",
       "      <th>TransactionID</th>\n",
       "      <th>AccountID</th>\n",
       "      <th>TransactionAmount</th>\n",
       "      <th>TransactionDate</th>\n",
       "      <th>TransactionType</th>\n",
       "      <th>Location</th>\n",
       "      <th>DeviceID</th>\n",
       "      <th>IP Address</th>\n",
       "      <th>MerchantID</th>\n",
       "      <th>Channel</th>\n",
       "      <th>CustomerAge</th>\n",
       "      <th>CustomerOccupation</th>\n",
       "      <th>TransactionDuration</th>\n",
       "      <th>LoginAttempts</th>\n",
       "      <th>AccountBalance</th>\n",
       "      <th>PreviousTransactionDate</th>\n",
       "    </tr>\n",
       "  </thead>\n",
       "  <tbody>\n",
       "    <tr>\n",
       "      <th>0</th>\n",
       "      <td>TX000001</td>\n",
       "      <td>AC00128</td>\n",
       "      <td>14.09</td>\n",
       "      <td>2023-04-11 16:29:14</td>\n",
       "      <td>Debit</td>\n",
       "      <td>San Diego</td>\n",
       "      <td>D000380</td>\n",
       "      <td>162.198.218.92</td>\n",
       "      <td>M015</td>\n",
       "      <td>ATM</td>\n",
       "      <td>70</td>\n",
       "      <td>Doctor</td>\n",
       "      <td>81</td>\n",
       "      <td>1</td>\n",
       "      <td>5112.21</td>\n",
       "      <td>2024-11-04 08:08:08</td>\n",
       "    </tr>\n",
       "    <tr>\n",
       "      <th>1</th>\n",
       "      <td>TX000002</td>\n",
       "      <td>AC00455</td>\n",
       "      <td>376.24</td>\n",
       "      <td>2023-06-27 16:44:19</td>\n",
       "      <td>Debit</td>\n",
       "      <td>Houston</td>\n",
       "      <td>D000051</td>\n",
       "      <td>13.149.61.4</td>\n",
       "      <td>M052</td>\n",
       "      <td>ATM</td>\n",
       "      <td>68</td>\n",
       "      <td>Doctor</td>\n",
       "      <td>141</td>\n",
       "      <td>1</td>\n",
       "      <td>13758.91</td>\n",
       "      <td>2024-11-04 08:09:35</td>\n",
       "    </tr>\n",
       "    <tr>\n",
       "      <th>2</th>\n",
       "      <td>TX000003</td>\n",
       "      <td>AC00019</td>\n",
       "      <td>126.29</td>\n",
       "      <td>2023-07-10 18:16:08</td>\n",
       "      <td>Debit</td>\n",
       "      <td>Mesa</td>\n",
       "      <td>D000235</td>\n",
       "      <td>215.97.143.157</td>\n",
       "      <td>M009</td>\n",
       "      <td>Online</td>\n",
       "      <td>19</td>\n",
       "      <td>Student</td>\n",
       "      <td>56</td>\n",
       "      <td>1</td>\n",
       "      <td>1122.35</td>\n",
       "      <td>2024-11-04 08:07:04</td>\n",
       "    </tr>\n",
       "    <tr>\n",
       "      <th>3</th>\n",
       "      <td>TX000004</td>\n",
       "      <td>AC00070</td>\n",
       "      <td>184.50</td>\n",
       "      <td>2023-05-05 16:32:11</td>\n",
       "      <td>Debit</td>\n",
       "      <td>Raleigh</td>\n",
       "      <td>D000187</td>\n",
       "      <td>200.13.225.150</td>\n",
       "      <td>M002</td>\n",
       "      <td>Online</td>\n",
       "      <td>26</td>\n",
       "      <td>Student</td>\n",
       "      <td>25</td>\n",
       "      <td>1</td>\n",
       "      <td>8569.06</td>\n",
       "      <td>2024-11-04 08:09:06</td>\n",
       "    </tr>\n",
       "    <tr>\n",
       "      <th>4</th>\n",
       "      <td>TX000005</td>\n",
       "      <td>AC00411</td>\n",
       "      <td>13.45</td>\n",
       "      <td>2023-10-16 17:51:24</td>\n",
       "      <td>Credit</td>\n",
       "      <td>Atlanta</td>\n",
       "      <td>D000308</td>\n",
       "      <td>65.164.3.100</td>\n",
       "      <td>M091</td>\n",
       "      <td>Online</td>\n",
       "      <td>26</td>\n",
       "      <td>Student</td>\n",
       "      <td>198</td>\n",
       "      <td>1</td>\n",
       "      <td>7429.40</td>\n",
       "      <td>2024-11-04 08:06:39</td>\n",
       "    </tr>\n",
       "  </tbody>\n",
       "</table>\n",
       "</div>"
      ],
      "text/plain": [
       "  TransactionID AccountID  TransactionAmount      TransactionDate  \\\n",
       "0      TX000001   AC00128              14.09  2023-04-11 16:29:14   \n",
       "1      TX000002   AC00455             376.24  2023-06-27 16:44:19   \n",
       "2      TX000003   AC00019             126.29  2023-07-10 18:16:08   \n",
       "3      TX000004   AC00070             184.50  2023-05-05 16:32:11   \n",
       "4      TX000005   AC00411              13.45  2023-10-16 17:51:24   \n",
       "\n",
       "  TransactionType   Location DeviceID      IP Address MerchantID Channel  \\\n",
       "0           Debit  San Diego  D000380  162.198.218.92       M015     ATM   \n",
       "1           Debit    Houston  D000051     13.149.61.4       M052     ATM   \n",
       "2           Debit       Mesa  D000235  215.97.143.157       M009  Online   \n",
       "3           Debit    Raleigh  D000187  200.13.225.150       M002  Online   \n",
       "4          Credit    Atlanta  D000308    65.164.3.100       M091  Online   \n",
       "\n",
       "   CustomerAge CustomerOccupation  TransactionDuration  LoginAttempts  \\\n",
       "0           70             Doctor                   81              1   \n",
       "1           68             Doctor                  141              1   \n",
       "2           19            Student                   56              1   \n",
       "3           26            Student                   25              1   \n",
       "4           26            Student                  198              1   \n",
       "\n",
       "   AccountBalance PreviousTransactionDate  \n",
       "0         5112.21     2024-11-04 08:08:08  \n",
       "1        13758.91     2024-11-04 08:09:35  \n",
       "2         1122.35     2024-11-04 08:07:04  \n",
       "3         8569.06     2024-11-04 08:09:06  \n",
       "4         7429.40     2024-11-04 08:06:39  "
      ]
     },
     "metadata": {},
     "output_type": "display_data"
    },
    {
     "name": "stdout",
     "output_type": "stream",
     "text": [
      "\n",
      "Dtypes:\n",
      " TransactionID               object\n",
      "AccountID                   object\n",
      "TransactionAmount          float64\n",
      "TransactionDate             object\n",
      "TransactionType             object\n",
      "Location                    object\n",
      "DeviceID                    object\n",
      "IP Address                  object\n",
      "MerchantID                  object\n",
      "Channel                     object\n",
      "CustomerAge                  int64\n",
      "CustomerOccupation          object\n",
      "TransactionDuration          int64\n",
      "LoginAttempts                int64\n",
      "AccountBalance             float64\n",
      "PreviousTransactionDate     object\n",
      "dtype: object\n"
     ]
    }
   ],
   "source": [
    "# Adjust these to your environment\n",
    "LOCAL_PATH = DATA_DIR / \"bank_transactions_data_2.csv\"\n",
    "\n",
    "if LOCAL_PATH.exists():\n",
    "    data_path = LOCAL_PATH\n",
    "else:\n",
    "    data_path = None\n",
    "\n",
    "print(\"Using data path:\", data_path)\n",
    "\n",
    "# Load THE dataset\n",
    "if data_path is not None:\n",
    "    df = pd.read_csv(data_path, low_memory=False)\n",
    "else:\n",
    "    print(\"Dataset file not found!!\")\n",
    "\n",
    "print(\"Shape:\", df.shape)\n",
    "display(df.head())\n",
    "print(\"\\nDtypes:\\n\", df.dtypes)\n"
   ]
  },
  {
   "cell_type": "markdown",
   "id": "587ca219",
   "metadata": {},
   "source": [
    "### Cleaning & Type Coercion (≤ 5 sentences)\n",
    "We ensure `TransactionAmount` is numeric and remove invalid or missing entries.  \n",
    "`Channel` is standardized to uppercase categories for consistent encoding.  \n",
    "Rows with NaN values are dropped since K-Means requires complete numeric input.\n"
   ]
  },
  {
   "cell_type": "code",
   "execution_count": 6,
   "id": "75e185da",
   "metadata": {},
   "outputs": [
    {
     "name": "stdout",
     "output_type": "stream",
     "text": [
      "After cleaning: (2512, 16)\n"
     ]
    },
    {
     "data": {
      "application/vnd.microsoft.datawrangler.viewer.v0+json": {
       "columns": [
        {
         "name": "index",
         "rawType": "int64",
         "type": "integer"
        },
        {
         "name": "TransactionID",
         "rawType": "object",
         "type": "string"
        },
        {
         "name": "AccountID",
         "rawType": "object",
         "type": "string"
        },
        {
         "name": "TransactionAmount",
         "rawType": "float64",
         "type": "float"
        },
        {
         "name": "TransactionDate",
         "rawType": "object",
         "type": "string"
        },
        {
         "name": "TransactionType",
         "rawType": "object",
         "type": "string"
        },
        {
         "name": "Location",
         "rawType": "object",
         "type": "string"
        },
        {
         "name": "DeviceID",
         "rawType": "object",
         "type": "string"
        },
        {
         "name": "IP Address",
         "rawType": "object",
         "type": "string"
        },
        {
         "name": "MerchantID",
         "rawType": "object",
         "type": "string"
        },
        {
         "name": "Channel",
         "rawType": "object",
         "type": "string"
        },
        {
         "name": "CustomerAge",
         "rawType": "int64",
         "type": "integer"
        },
        {
         "name": "CustomerOccupation",
         "rawType": "object",
         "type": "string"
        },
        {
         "name": "TransactionDuration",
         "rawType": "int64",
         "type": "integer"
        },
        {
         "name": "LoginAttempts",
         "rawType": "int64",
         "type": "integer"
        },
        {
         "name": "AccountBalance",
         "rawType": "float64",
         "type": "float"
        },
        {
         "name": "PreviousTransactionDate",
         "rawType": "object",
         "type": "string"
        }
       ],
       "ref": "48ca8bbd-38d7-41a0-b2f9-f570c3269fb9",
       "rows": [
        [
         "0",
         "TX000001",
         "AC00128",
         "14.09",
         "2023-04-11 16:29:14",
         "Debit",
         "San Diego",
         "D000380",
         "162.198.218.92",
         "M015",
         "ATM",
         "70",
         "Doctor",
         "81",
         "1",
         "5112.21",
         "2024-11-04 08:08:08"
        ],
        [
         "1",
         "TX000002",
         "AC00455",
         "376.24",
         "2023-06-27 16:44:19",
         "Debit",
         "Houston",
         "D000051",
         "13.149.61.4",
         "M052",
         "ATM",
         "68",
         "Doctor",
         "141",
         "1",
         "13758.91",
         "2024-11-04 08:09:35"
        ],
        [
         "2",
         "TX000003",
         "AC00019",
         "126.29",
         "2023-07-10 18:16:08",
         "Debit",
         "Mesa",
         "D000235",
         "215.97.143.157",
         "M009",
         "ONLINE",
         "19",
         "Student",
         "56",
         "1",
         "1122.35",
         "2024-11-04 08:07:04"
        ],
        [
         "3",
         "TX000004",
         "AC00070",
         "184.5",
         "2023-05-05 16:32:11",
         "Debit",
         "Raleigh",
         "D000187",
         "200.13.225.150",
         "M002",
         "ONLINE",
         "26",
         "Student",
         "25",
         "1",
         "8569.06",
         "2024-11-04 08:09:06"
        ],
        [
         "4",
         "TX000005",
         "AC00411",
         "13.45",
         "2023-10-16 17:51:24",
         "Credit",
         "Atlanta",
         "D000308",
         "65.164.3.100",
         "M091",
         "ONLINE",
         "26",
         "Student",
         "198",
         "1",
         "7429.4",
         "2024-11-04 08:06:39"
        ]
       ],
       "shape": {
        "columns": 16,
        "rows": 5
       }
      },
      "text/html": [
       "<div>\n",
       "<style scoped>\n",
       "    .dataframe tbody tr th:only-of-type {\n",
       "        vertical-align: middle;\n",
       "    }\n",
       "\n",
       "    .dataframe tbody tr th {\n",
       "        vertical-align: top;\n",
       "    }\n",
       "\n",
       "    .dataframe thead th {\n",
       "        text-align: right;\n",
       "    }\n",
       "</style>\n",
       "<table border=\"1\" class=\"dataframe\">\n",
       "  <thead>\n",
       "    <tr style=\"text-align: right;\">\n",
       "      <th></th>\n",
       "      <th>TransactionID</th>\n",
       "      <th>AccountID</th>\n",
       "      <th>TransactionAmount</th>\n",
       "      <th>TransactionDate</th>\n",
       "      <th>TransactionType</th>\n",
       "      <th>Location</th>\n",
       "      <th>DeviceID</th>\n",
       "      <th>IP Address</th>\n",
       "      <th>MerchantID</th>\n",
       "      <th>Channel</th>\n",
       "      <th>CustomerAge</th>\n",
       "      <th>CustomerOccupation</th>\n",
       "      <th>TransactionDuration</th>\n",
       "      <th>LoginAttempts</th>\n",
       "      <th>AccountBalance</th>\n",
       "      <th>PreviousTransactionDate</th>\n",
       "    </tr>\n",
       "  </thead>\n",
       "  <tbody>\n",
       "    <tr>\n",
       "      <th>0</th>\n",
       "      <td>TX000001</td>\n",
       "      <td>AC00128</td>\n",
       "      <td>14.09</td>\n",
       "      <td>2023-04-11 16:29:14</td>\n",
       "      <td>Debit</td>\n",
       "      <td>San Diego</td>\n",
       "      <td>D000380</td>\n",
       "      <td>162.198.218.92</td>\n",
       "      <td>M015</td>\n",
       "      <td>ATM</td>\n",
       "      <td>70</td>\n",
       "      <td>Doctor</td>\n",
       "      <td>81</td>\n",
       "      <td>1</td>\n",
       "      <td>5112.21</td>\n",
       "      <td>2024-11-04 08:08:08</td>\n",
       "    </tr>\n",
       "    <tr>\n",
       "      <th>1</th>\n",
       "      <td>TX000002</td>\n",
       "      <td>AC00455</td>\n",
       "      <td>376.24</td>\n",
       "      <td>2023-06-27 16:44:19</td>\n",
       "      <td>Debit</td>\n",
       "      <td>Houston</td>\n",
       "      <td>D000051</td>\n",
       "      <td>13.149.61.4</td>\n",
       "      <td>M052</td>\n",
       "      <td>ATM</td>\n",
       "      <td>68</td>\n",
       "      <td>Doctor</td>\n",
       "      <td>141</td>\n",
       "      <td>1</td>\n",
       "      <td>13758.91</td>\n",
       "      <td>2024-11-04 08:09:35</td>\n",
       "    </tr>\n",
       "    <tr>\n",
       "      <th>2</th>\n",
       "      <td>TX000003</td>\n",
       "      <td>AC00019</td>\n",
       "      <td>126.29</td>\n",
       "      <td>2023-07-10 18:16:08</td>\n",
       "      <td>Debit</td>\n",
       "      <td>Mesa</td>\n",
       "      <td>D000235</td>\n",
       "      <td>215.97.143.157</td>\n",
       "      <td>M009</td>\n",
       "      <td>ONLINE</td>\n",
       "      <td>19</td>\n",
       "      <td>Student</td>\n",
       "      <td>56</td>\n",
       "      <td>1</td>\n",
       "      <td>1122.35</td>\n",
       "      <td>2024-11-04 08:07:04</td>\n",
       "    </tr>\n",
       "    <tr>\n",
       "      <th>3</th>\n",
       "      <td>TX000004</td>\n",
       "      <td>AC00070</td>\n",
       "      <td>184.50</td>\n",
       "      <td>2023-05-05 16:32:11</td>\n",
       "      <td>Debit</td>\n",
       "      <td>Raleigh</td>\n",
       "      <td>D000187</td>\n",
       "      <td>200.13.225.150</td>\n",
       "      <td>M002</td>\n",
       "      <td>ONLINE</td>\n",
       "      <td>26</td>\n",
       "      <td>Student</td>\n",
       "      <td>25</td>\n",
       "      <td>1</td>\n",
       "      <td>8569.06</td>\n",
       "      <td>2024-11-04 08:09:06</td>\n",
       "    </tr>\n",
       "    <tr>\n",
       "      <th>4</th>\n",
       "      <td>TX000005</td>\n",
       "      <td>AC00411</td>\n",
       "      <td>13.45</td>\n",
       "      <td>2023-10-16 17:51:24</td>\n",
       "      <td>Credit</td>\n",
       "      <td>Atlanta</td>\n",
       "      <td>D000308</td>\n",
       "      <td>65.164.3.100</td>\n",
       "      <td>M091</td>\n",
       "      <td>ONLINE</td>\n",
       "      <td>26</td>\n",
       "      <td>Student</td>\n",
       "      <td>198</td>\n",
       "      <td>1</td>\n",
       "      <td>7429.40</td>\n",
       "      <td>2024-11-04 08:06:39</td>\n",
       "    </tr>\n",
       "  </tbody>\n",
       "</table>\n",
       "</div>"
      ],
      "text/plain": [
       "  TransactionID AccountID  TransactionAmount      TransactionDate  \\\n",
       "0      TX000001   AC00128              14.09  2023-04-11 16:29:14   \n",
       "1      TX000002   AC00455             376.24  2023-06-27 16:44:19   \n",
       "2      TX000003   AC00019             126.29  2023-07-10 18:16:08   \n",
       "3      TX000004   AC00070             184.50  2023-05-05 16:32:11   \n",
       "4      TX000005   AC00411              13.45  2023-10-16 17:51:24   \n",
       "\n",
       "  TransactionType   Location DeviceID      IP Address MerchantID Channel  \\\n",
       "0           Debit  San Diego  D000380  162.198.218.92       M015     ATM   \n",
       "1           Debit    Houston  D000051     13.149.61.4       M052     ATM   \n",
       "2           Debit       Mesa  D000235  215.97.143.157       M009  ONLINE   \n",
       "3           Debit    Raleigh  D000187  200.13.225.150       M002  ONLINE   \n",
       "4          Credit    Atlanta  D000308    65.164.3.100       M091  ONLINE   \n",
       "\n",
       "   CustomerAge CustomerOccupation  TransactionDuration  LoginAttempts  \\\n",
       "0           70             Doctor                   81              1   \n",
       "1           68             Doctor                  141              1   \n",
       "2           19            Student                   56              1   \n",
       "3           26            Student                   25              1   \n",
       "4           26            Student                  198              1   \n",
       "\n",
       "   AccountBalance PreviousTransactionDate  \n",
       "0         5112.21     2024-11-04 08:08:08  \n",
       "1        13758.91     2024-11-04 08:09:35  \n",
       "2         1122.35     2024-11-04 08:07:04  \n",
       "3         8569.06     2024-11-04 08:09:06  \n",
       "4         7429.40     2024-11-04 08:06:39  "
      ]
     },
     "metadata": {},
     "output_type": "display_data"
    }
   ],
   "source": [
    "df_clean = df.copy()\n",
    "\n",
    "# numeric conversion\n",
    "df_clean[\"TransactionAmount\"] = pd.to_numeric(df_clean[\"TransactionAmount\"], errors=\"coerce\")\n",
    "\n",
    "# clean channel\n",
    "df_clean[\"Channel\"] = df_clean[\"Channel\"].astype(str).str.strip().str.upper()\n",
    "\n",
    "# drop invalid\n",
    "df_clean = df_clean.dropna(subset=[\"TransactionAmount\", \"Channel\"])\n",
    "df_clean = df_clean[df_clean[\"TransactionAmount\"] > 0]\n",
    "\n",
    "print(\"After cleaning:\", df_clean.shape)\n",
    "display(df_clean.head())\n"
   ]
  },
  {
   "cell_type": "markdown",
   "id": "bd572331",
   "metadata": {},
   "source": [
    "### Exploratory Data Analysis\n",
    "We compute descriptive statistics and visualize the distribution of transaction amounts across channels.  \n",
    "Histograms and box plots reveal central tendency, spread, and potential outliers that could indicate fraudulent activity.\n"
   ]
  },
  {
   "cell_type": "code",
   "execution_count": 28,
   "id": "2bb45b0b",
   "metadata": {},
   "outputs": [
    {
     "name": "stdout",
     "output_type": "stream",
     "text": [
      "The description of the description\n",
      " count    2512.000000\n",
      "mean      297.593778\n",
      "std       291.946243\n",
      "min         0.260000\n",
      "25%        81.885000\n",
      "50%       211.140000\n",
      "75%       414.527500\n",
      "max      1919.110000\n",
      "Name: TransactionAmount, dtype: float64\n"
     ]
    }
   ],
   "source": [
    "desc = df_clean[\"TransactionAmount\"].describe()\n",
    "print(\"The description of the description\\n\",desc)\n"
   ]
  },
  {
   "cell_type": "code",
   "execution_count": 33,
   "id": "34a8f2d6",
   "metadata": {},
   "outputs": [
    {
     "data": {
      "image/png": "[encoded data removed]",
      "text/plain": [
       "<Figure size 800x500 with 1 Axes>"
      ]
     },
     "metadata": {},
     "output_type": "display_data"
    }
   ],
   "source": [
    "plt.figure()\n",
    "df_clean[\"TransactionAmount\"].hist(bins=50)\n",
    "plt.title(\"TransactionAmount Distribution\")\n",
    "plt.xlabel(\"Amount ($)\")\n",
    "plt.ylabel(\"Count\")\n",
    "plt.tight_layout()\n",
    "plt.show()\n"
   ]
  },
  {
   "cell_type": "code",
   "execution_count": 32,
   "id": "051a2ae4",
   "metadata": {},
   "outputs": [
    {
     "data": {
      "text/plain": [
       "<Figure size 800x500 with 0 Axes>"
      ]
     },
     "metadata": {},
     "output_type": "display_data"
    },
    {
     "data": {
      "image/png": "[encoded data removed]",
      "text/plain": [
       "<Figure size 800x500 with 1 Axes>"
      ]
     },
     "metadata": {},
     "output_type": "display_data"
    }
   ],
   "source": [
    "plt.figure()\n",
    "df_clean.boxplot(column=\"TransactionAmount\", by=\"Channel\")\n",
    "plt.title(\"TransactionAmount by Channel\")\n",
    "plt.suptitle(\"\")\n",
    "plt.xlabel(\"Channel\")\n",
    "plt.ylabel(\"Amount ($)\")\n",
    "plt.tight_layout()\n",
    "plt.show()"
   ]
  },
  {
   "cell_type": "markdown",
   "id": "f10a683f",
   "metadata": {},
   "source": [
    "### Correlation Analysis\n",
    "Correlation analysis helps identify how numerical features relate to one another.\n",
    "A high positive correlation (close to +1) means features increase together, while a negative correlation (close to –1) means one increases as the other decreases.\n",
    "Low or zero correlation indicates independence, which is ideal for clustering.\n",
    "A heatmap visually displays these relationships and helps detect redundant or related features.\n"
   ]
  },
  {
   "cell_type": "code",
   "execution_count": 19,
   "id": "20a9601d",
   "metadata": {},
   "outputs": [
    {
     "data": {
      "application/vnd.microsoft.datawrangler.viewer.v0+json": {
       "columns": [
        {
         "name": "index",
         "rawType": "object",
         "type": "string"
        },
        {
         "name": "TransactionAmount",
         "rawType": "float64",
         "type": "float"
        },
        {
         "name": "CustomerAge",
         "rawType": "float64",
         "type": "float"
        },
        {
         "name": "TransactionDuration",
         "rawType": "float64",
         "type": "float"
        },
        {
         "name": "LoginAttempts",
         "rawType": "float64",
         "type": "float"
        },
        {
         "name": "AccountBalance",
         "rawType": "float64",
         "type": "float"
        },
        {
         "name": "ChannelFreq",
         "rawType": "float64",
         "type": "float"
        },
        {
         "name": "cluster",
         "rawType": "float64",
         "type": "float"
        }
       ],
       "ref": "1fecc65c-cdfb-40a9-9301-cc3f52679662",
       "rows": [
        [
         "TransactionAmount",
         "1.0",
         "-0.03",
         "0.0",
         "-0.01",
         "-0.03",
         "-0.02",
         "0.1"
        ],
        [
         "CustomerAge",
         "-0.03",
         "1.0",
         "-0.02",
         "0.01",
         "0.32",
         "0.0",
         "-0.0"
        ],
        [
         "TransactionDuration",
         "0.0",
         "-0.02",
         "1.0",
         "0.03",
         "0.01",
         "-0.02",
         "0.03"
        ],
        [
         "LoginAttempts",
         "-0.01",
         "0.01",
         "0.03",
         "1.0",
         "0.01",
         "-0.0",
         "-0.0"
        ],
        [
         "AccountBalance",
         "-0.03",
         "0.32",
         "0.01",
         "0.01",
         "1.0",
         "0.01",
         "0.02"
        ],
        [
         "ChannelFreq",
         "-0.02",
         "0.0",
         "-0.02",
         "-0.0",
         "0.01",
         "1.0",
         "-0.52"
        ],
        [
         "cluster",
         "0.1",
         "-0.0",
         "0.03",
         "-0.0",
         "0.02",
         "-0.52",
         "1.0"
        ]
       ],
       "shape": {
        "columns": 7,
        "rows": 7
       }
      },
      "text/html": [
       "<div>\n",
       "<style scoped>\n",
       "    .dataframe tbody tr th:only-of-type {\n",
       "        vertical-align: middle;\n",
       "    }\n",
       "\n",
       "    .dataframe tbody tr th {\n",
       "        vertical-align: top;\n",
       "    }\n",
       "\n",
       "    .dataframe thead th {\n",
       "        text-align: right;\n",
       "    }\n",
       "</style>\n",
       "<table border=\"1\" class=\"dataframe\">\n",
       "  <thead>\n",
       "    <tr style=\"text-align: right;\">\n",
       "      <th></th>\n",
       "      <th>TransactionAmount</th>\n",
       "      <th>CustomerAge</th>\n",
       "      <th>TransactionDuration</th>\n",
       "      <th>LoginAttempts</th>\n",
       "      <th>AccountBalance</th>\n",
       "      <th>ChannelFreq</th>\n",
       "      <th>cluster</th>\n",
       "    </tr>\n",
       "  </thead>\n",
       "  <tbody>\n",
       "    <tr>\n",
       "      <th>TransactionAmount</th>\n",
       "      <td>1.00</td>\n",
       "      <td>-0.03</td>\n",
       "      <td>0.00</td>\n",
       "      <td>-0.01</td>\n",
       "      <td>-0.03</td>\n",
       "      <td>-0.02</td>\n",
       "      <td>0.10</td>\n",
       "    </tr>\n",
       "    <tr>\n",
       "      <th>CustomerAge</th>\n",
       "      <td>-0.03</td>\n",
       "      <td>1.00</td>\n",
       "      <td>-0.02</td>\n",
       "      <td>0.01</td>\n",
       "      <td>0.32</td>\n",
       "      <td>0.00</td>\n",
       "      <td>-0.00</td>\n",
       "    </tr>\n",
       "    <tr>\n",
       "      <th>TransactionDuration</th>\n",
       "      <td>0.00</td>\n",
       "      <td>-0.02</td>\n",
       "      <td>1.00</td>\n",
       "      <td>0.03</td>\n",
       "      <td>0.01</td>\n",
       "      <td>-0.02</td>\n",
       "      <td>0.03</td>\n",
       "    </tr>\n",
       "    <tr>\n",
       "      <th>LoginAttempts</th>\n",
       "      <td>-0.01</td>\n",
       "      <td>0.01</td>\n",
       "      <td>0.03</td>\n",
       "      <td>1.00</td>\n",
       "      <td>0.01</td>\n",
       "      <td>-0.00</td>\n",
       "      <td>-0.00</td>\n",
       "    </tr>\n",
       "    <tr>\n",
       "      <th>AccountBalance</th>\n",
       "      <td>-0.03</td>\n",
       "      <td>0.32</td>\n",
       "      <td>0.01</td>\n",
       "      <td>0.01</td>\n",
       "      <td>1.00</td>\n",
       "      <td>0.01</td>\n",
       "      <td>0.02</td>\n",
       "    </tr>\n",
       "    <tr>\n",
       "      <th>ChannelFreq</th>\n",
       "      <td>-0.02</td>\n",
       "      <td>0.00</td>\n",
       "      <td>-0.02</td>\n",
       "      <td>-0.00</td>\n",
       "      <td>0.01</td>\n",
       "      <td>1.00</td>\n",
       "      <td>-0.52</td>\n",
       "    </tr>\n",
       "    <tr>\n",
       "      <th>cluster</th>\n",
       "      <td>0.10</td>\n",
       "      <td>-0.00</td>\n",
       "      <td>0.03</td>\n",
       "      <td>-0.00</td>\n",
       "      <td>0.02</td>\n",
       "      <td>-0.52</td>\n",
       "      <td>1.00</td>\n",
       "    </tr>\n",
       "  </tbody>\n",
       "</table>\n",
       "</div>"
      ],
      "text/plain": [
       "                     TransactionAmount  CustomerAge  TransactionDuration  \\\n",
       "TransactionAmount                 1.00        -0.03                 0.00   \n",
       "CustomerAge                      -0.03         1.00                -0.02   \n",
       "TransactionDuration               0.00        -0.02                 1.00   \n",
       "LoginAttempts                    -0.01         0.01                 0.03   \n",
       "AccountBalance                   -0.03         0.32                 0.01   \n",
       "ChannelFreq                      -0.02         0.00                -0.02   \n",
       "cluster                           0.10        -0.00                 0.03   \n",
       "\n",
       "                     LoginAttempts  AccountBalance  ChannelFreq  cluster  \n",
       "TransactionAmount            -0.01           -0.03        -0.02     0.10  \n",
       "CustomerAge                   0.01            0.32         0.00    -0.00  \n",
       "TransactionDuration           0.03            0.01        -0.02     0.03  \n",
       "LoginAttempts                 1.00            0.01        -0.00    -0.00  \n",
       "AccountBalance                0.01            1.00         0.01     0.02  \n",
       "ChannelFreq                  -0.00            0.01         1.00    -0.52  \n",
       "cluster                      -0.00            0.02        -0.52     1.00  "
      ]
     },
     "metadata": {},
     "output_type": "display_data"
    },
    {
     "data": {
      "image/png": "[encoded data removed]",
      "text/plain": [
       "<Figure size 1000x600 with 2 Axes>"
      ]
     },
     "metadata": {},
     "output_type": "display_data"
    }
   ],
   "source": [
    "import seaborn as sns\n",
    "\n",
    "# Select numeric columns only\n",
    "numeric_cols = df_clean.select_dtypes(include=['number']).columns.tolist()\n",
    "\n",
    "# Compute correlation matrix\n",
    "corr_matrix = df_clean[numeric_cols].corr().round(2)\n",
    "\n",
    "# Display correlation values\n",
    "display(corr_matrix)\n",
    "\n",
    "# Create correlation heatmap\n",
    "plt.figure(figsize=(10, 6))\n",
    "sns.heatmap(\n",
    "    corr_matrix, \n",
    "    annot=True, \n",
    "    cmap='coolwarm', \n",
    "    center=0, \n",
    "    linewidths=0.5, \n",
    "    fmt=\".2f\"\n",
    ")\n",
    "plt.title(\"Correlation Heatmap of Numerical Features\", fontsize=14)\n",
    "plt.tight_layout()\n",
    "plt.show()\n"
   ]
  },
  {
   "cell_type": "markdown",
   "id": "a46ed4d4",
   "metadata": {},
   "source": [
    "### Encode Channel for Clustering\n",
    "`Channel` is categorical, so we encode it numerically using **frequency encoding**.  \n",
    "This assigns higher numeric values to channels with more occurrences.  \n",
    "It preserves ordinal information for distance-based algorithms like K-Means without expanding dimensions.\n"
   ]
  },
  {
   "cell_type": "code",
   "execution_count": 8,
   "id": "bbe95153",
   "metadata": {},
   "outputs": [
    {
     "data": {
      "application/vnd.microsoft.datawrangler.viewer.v0+json": {
       "columns": [
        {
         "name": "index",
         "rawType": "int64",
         "type": "integer"
        },
        {
         "name": "TransactionAmount",
         "rawType": "float64",
         "type": "float"
        },
        {
         "name": "ChannelFreq",
         "rawType": "float64",
         "type": "float"
        }
       ],
       "ref": "70a27a6f-0f01-488e-a2a3-f66890b737ae",
       "rows": [
        [
         "0",
         "14.09",
         "0.33160828025477707"
        ],
        [
         "1",
         "376.24",
         "0.33160828025477707"
        ],
        [
         "2",
         "126.29",
         "0.3228503184713376"
        ],
        [
         "3",
         "184.5",
         "0.3228503184713376"
        ],
        [
         "4",
         "13.45",
         "0.3228503184713376"
        ]
       ],
       "shape": {
        "columns": 2,
        "rows": 5
       }
      },
      "text/html": [
       "<div>\n",
       "<style scoped>\n",
       "    .dataframe tbody tr th:only-of-type {\n",
       "        vertical-align: middle;\n",
       "    }\n",
       "\n",
       "    .dataframe tbody tr th {\n",
       "        vertical-align: top;\n",
       "    }\n",
       "\n",
       "    .dataframe thead th {\n",
       "        text-align: right;\n",
       "    }\n",
       "</style>\n",
       "<table border=\"1\" class=\"dataframe\">\n",
       "  <thead>\n",
       "    <tr style=\"text-align: right;\">\n",
       "      <th></th>\n",
       "      <th>TransactionAmount</th>\n",
       "      <th>ChannelFreq</th>\n",
       "    </tr>\n",
       "  </thead>\n",
       "  <tbody>\n",
       "    <tr>\n",
       "      <th>0</th>\n",
       "      <td>14.09</td>\n",
       "      <td>0.331608</td>\n",
       "    </tr>\n",
       "    <tr>\n",
       "      <th>1</th>\n",
       "      <td>376.24</td>\n",
       "      <td>0.331608</td>\n",
       "    </tr>\n",
       "    <tr>\n",
       "      <th>2</th>\n",
       "      <td>126.29</td>\n",
       "      <td>0.322850</td>\n",
       "    </tr>\n",
       "    <tr>\n",
       "      <th>3</th>\n",
       "      <td>184.50</td>\n",
       "      <td>0.322850</td>\n",
       "    </tr>\n",
       "    <tr>\n",
       "      <th>4</th>\n",
       "      <td>13.45</td>\n",
       "      <td>0.322850</td>\n",
       "    </tr>\n",
       "  </tbody>\n",
       "</table>\n",
       "</div>"
      ],
      "text/plain": [
       "   TransactionAmount  ChannelFreq\n",
       "0              14.09     0.331608\n",
       "1             376.24     0.331608\n",
       "2             126.29     0.322850\n",
       "3             184.50     0.322850\n",
       "4              13.45     0.322850"
      ]
     },
     "metadata": {},
     "output_type": "display_data"
    }
   ],
   "source": [
    "# frequency encoding\n",
    "channel_freq = df_clean[\"Channel\"].value_counts(normalize=True)\n",
    "df_clean[\"ChannelFreq\"] = df_clean[\"Channel\"].map(channel_freq)\n",
    "\n",
    "# feature matrix\n",
    "X = df_clean[[\"TransactionAmount\", \"ChannelFreq\"]].copy()\n",
    "display(X.head())\n"
   ]
  },
  {
   "cell_type": "markdown",
   "id": "e5e2a138",
   "metadata": {},
   "source": [
    "### Standardization\n",
    "Because `TransactionAmount` and `ChannelFreq` are on different scales,  \n",
    "we standardize them (z-score → mean 0, std 1).  \n",
    "This ensures K-Means treats both features equally when computing distances.\n"
   ]
  },
  {
   "cell_type": "code",
   "execution_count": 9,
   "id": "b83c1dc9",
   "metadata": {},
   "outputs": [
    {
     "name": "stdout",
     "output_type": "stream",
     "text": [
      "Standardized matrix shape: (2512, 2)\n"
     ]
    }
   ],
   "source": [
    "scaler = StandardScaler()\n",
    "X_std = scaler.fit_transform(X)\n",
    "\n",
    "print(\"Standardized matrix shape:\", X_std.shape)\n"
   ]
  },
  {
   "cell_type": "markdown",
   "id": "9165a29b",
   "metadata": {},
   "source": [
    "`Talking Point`\n",
    "\n",
    "Scaling ensures all variables contribute equally to the clustering process by removing bias from differences in numeric units or ranges."
   ]
  },
  {
   "cell_type": "markdown",
   "id": "47db371a",
   "metadata": {},
   "source": [
    "### Selecting Best *k*\n",
    "We use the **elbow method** (inertia) and **silhouette scores** to identify a good number of clusters.  \n",
    "The optimal *k* balances low inertia (compact clusters) and high silhouette score (well-separated clusters).\n"
   ]
  },
  {
   "cell_type": "code",
   "execution_count": 18,
   "id": "9e2f8618",
   "metadata": {},
   "outputs": [
    {
     "name": "stdout",
     "output_type": "stream",
     "text": [
      "Silhouette by k: {2: 0.5, 3: 0.558, 4: 0.508, 5: 0.5, 6: 0.553, 7: 0.549, 8: 0.587, 9: 0.585}\n",
      "Best k = 8\n"
     ]
    }
   ],
   "source": [
    "k_range = range(2, 10)\n",
    "inertias, sils = [], []\n",
    "\n",
    "for k in k_range:\n",
    "    km = KMeans(n_clusters=k, random_state=SEED, n_init=10)\n",
    "    labels = km.fit_predict(X_std)\n",
    "    inertias.append(km.inertia_)\n",
    "    sils.append(silhouette_score(X_std, labels))\n",
    "\n",
    "best_k = int(k_range[np.argmax(sils)])\n",
    "print(\"Silhouette by k:\", {k: round(s,3) for k,s in zip(k_range,sils)})\n",
    "print(\"Best k =\", best_k)"
   ]
  },
  {
   "cell_type": "markdown",
   "id": "2f4fc34d",
   "metadata": {},
   "source": [
    "`50-WORD Summary`\n",
    "\n",
    "K-Means partitions standardized features into k clusters by minimizing within-cluster variance. We selected k via elbow (inertia trend) and validated separation with silhouette scores, then fit the model and assigned labels. Interpreting centroids shows distinct transaction-amount bands and channel-usage frequencies; high-amount/low-frequency clusters surface potential fraud, while low-amount/high-frequency clusters reflect routine behavior."
   ]
  },
  {
   "cell_type": "code",
   "execution_count": 27,
   "id": "1fe5d533",
   "metadata": {},
   "outputs": [
    {
     "data": {
      "image/png": "[encoded data removed]",
      "text/plain": [
       "<Figure size 1200x500 with 2 Axes>"
      ]
     },
     "metadata": {},
     "output_type": "display_data"
    }
   ],
   "source": [
    "\n",
    "fig, axes = plt.subplots(1, 2, figsize=(12, 5))\n",
    "\n",
    "# --- Elbow Plot (Inertia) ---\n",
    "axes[0].plot(list(k_range), inertias, marker=\"o\", color='steelblue')\n",
    "axes[0].set_title(\"Elbow Plot (Inertia)\")\n",
    "axes[0].set_xlabel(\"Number of Clusters (k)\")\n",
    "axes[0].set_ylabel(\"Inertia\")\n",
    "axes[0].grid(alpha=0.3)\n",
    "\n",
    "# --- Silhouette Scores Plot ---\n",
    "axes[1].plot(list(k_range), sils, marker=\"o\", color='darkorange')\n",
    "axes[1].set_title(\"Silhouette Scores by k\")\n",
    "axes[1].set_xlabel(\"Number of Clusters (k)\")\n",
    "axes[1].set_ylabel(\"Silhouette Score\")\n",
    "axes[1].grid(alpha=0.3)\n",
    "\n",
    "# Improve layout and display\n",
    "plt.tight_layout()\n",
    "plt.show()\n"
   ]
  },
  {
   "cell_type": "markdown",
   "id": "9e87f56f",
   "metadata": {},
   "source": [
    "### Fit Final K-Means and Visualize\n",
    "We fit K-Means with the selected *k* and append cluster labels.  \n",
    "Then we use PCA to reduce dimensions to 2D for visualization and interpretation of cluster structure.\n"
   ]
  },
  {
   "cell_type": "code",
   "execution_count": null,
   "id": "9a9c4f6a",
   "metadata": {},
   "outputs": [
    {
     "data": {
      "application/vnd.microsoft.datawrangler.viewer.v0+json": {
       "columns": [
        {
         "name": "index",
         "rawType": "int64",
         "type": "integer"
        },
        {
         "name": "TransactionID",
         "rawType": "object",
         "type": "string"
        },
        {
         "name": "AccountID",
         "rawType": "object",
         "type": "string"
        },
        {
         "name": "TransactionAmount",
         "rawType": "float64",
         "type": "float"
        },
        {
         "name": "TransactionDate",
         "rawType": "object",
         "type": "string"
        },
        {
         "name": "TransactionType",
         "rawType": "object",
         "type": "string"
        },
        {
         "name": "Location",
         "rawType": "object",
         "type": "string"
        },
        {
         "name": "DeviceID",
         "rawType": "object",
         "type": "string"
        },
        {
         "name": "IP Address",
         "rawType": "object",
         "type": "string"
        },
        {
         "name": "MerchantID",
         "rawType": "object",
         "type": "string"
        },
        {
         "name": "Channel",
         "rawType": "object",
         "type": "string"
        },
        {
         "name": "CustomerAge",
         "rawType": "int64",
         "type": "integer"
        },
        {
         "name": "CustomerOccupation",
         "rawType": "object",
         "type": "string"
        },
        {
         "name": "TransactionDuration",
         "rawType": "int64",
         "type": "integer"
        },
        {
         "name": "LoginAttempts",
         "rawType": "int64",
         "type": "integer"
        },
        {
         "name": "AccountBalance",
         "rawType": "float64",
         "type": "float"
        },
        {
         "name": "PreviousTransactionDate",
         "rawType": "object",
         "type": "string"
        },
        {
         "name": "ChannelFreq",
         "rawType": "float64",
         "type": "float"
        },
        {
         "name": "cluster",
         "rawType": "int32",
         "type": "integer"
        }
       ],
       "ref": "141d34e0-bcee-4ef9-b96b-6a8c04ac5b52",
       "rows": [
        [
         "0",
         "TX000001",
         "AC00128",
         "14.09",
         "2023-04-11 16:29:14",
         "Debit",
         "San Diego",
         "D000380",
         "162.198.218.92",
         "M015",
         "ATM",
         "70",
         "Doctor",
         "81",
         "1",
         "5112.21",
         "2024-11-04 08:08:08",
         "0.33160828025477707",
         "6"
        ],
        [
         "1",
         "TX000002",
         "AC00455",
         "376.24",
         "2023-06-27 16:44:19",
         "Debit",
         "Houston",
         "D000051",
         "13.149.61.4",
         "M052",
         "ATM",
         "68",
         "Doctor",
         "141",
         "1",
         "13758.91",
         "2024-11-04 08:09:35",
         "0.33160828025477707",
         "1"
        ],
        [
         "2",
         "TX000003",
         "AC00019",
         "126.29",
         "2023-07-10 18:16:08",
         "Debit",
         "Mesa",
         "D000235",
         "215.97.143.157",
         "M009",
         "ONLINE",
         "19",
         "Student",
         "56",
         "1",
         "1122.35",
         "2024-11-04 08:07:04",
         "0.3228503184713376",
         "3"
        ],
        [
         "3",
         "TX000004",
         "AC00070",
         "184.5",
         "2023-05-05 16:32:11",
         "Debit",
         "Raleigh",
         "D000187",
         "200.13.225.150",
         "M002",
         "ONLINE",
         "26",
         "Student",
         "25",
         "1",
         "8569.06",
         "2024-11-04 08:09:06",
         "0.3228503184713376",
         "3"
        ],
        [
         "4",
         "TX000005",
         "AC00411",
         "13.45",
         "2023-10-16 17:51:24",
         "Credit",
         "Atlanta",
         "D000308",
         "65.164.3.100",
         "M091",
         "ONLINE",
         "26",
         "Student",
         "198",
         "1",
         "7429.4",
         "2024-11-04 08:06:39",
         "0.3228503184713376",
         "3"
        ]
       ],
       "shape": {
        "columns": 18,
        "rows": 5
       }
      },
      "text/html": [
       "<div>\n",
       "<style scoped>\n",
       "    .dataframe tbody tr th:only-of-type {\n",
       "        vertical-align: middle;\n",
       "    }\n",
       "\n",
       "    .dataframe tbody tr th {\n",
       "        vertical-align: top;\n",
       "    }\n",
       "\n",
       "    .dataframe thead th {\n",
       "        text-align: right;\n",
       "    }\n",
       "</style>\n",
       "<table border=\"1\" class=\"dataframe\">\n",
       "  <thead>\n",
       "    <tr style=\"text-align: right;\">\n",
       "      <th></th>\n",
       "      <th>TransactionID</th>\n",
       "      <th>AccountID</th>\n",
       "      <th>TransactionAmount</th>\n",
       "      <th>TransactionDate</th>\n",
       "      <th>TransactionType</th>\n",
       "      <th>Location</th>\n",
       "      <th>DeviceID</th>\n",
       "      <th>IP Address</th>\n",
       "      <th>MerchantID</th>\n",
       "      <th>Channel</th>\n",
       "      <th>CustomerAge</th>\n",
       "      <th>CustomerOccupation</th>\n",
       "      <th>TransactionDuration</th>\n",
       "      <th>LoginAttempts</th>\n",
       "      <th>AccountBalance</th>\n",
       "      <th>PreviousTransactionDate</th>\n",
       "      <th>ChannelFreq</th>\n",
       "      <th>cluster</th>\n",
       "    </tr>\n",
       "  </thead>\n",
       "  <tbody>\n",
       "    <tr>\n",
       "      <th>0</th>\n",
       "      <td>TX000001</td>\n",
       "      <td>AC00128</td>\n",
       "      <td>14.09</td>\n",
       "      <td>2023-04-11 16:29:14</td>\n",
       "      <td>Debit</td>\n",
       "      <td>San Diego</td>\n",
       "      <td>D000380</td>\n",
       "      <td>162.198.218.92</td>\n",
       "      <td>M015</td>\n",
       "      <td>ATM</td>\n",
       "      <td>70</td>\n",
       "      <td>Doctor</td>\n",
       "      <td>81</td>\n",
       "      <td>1</td>\n",
       "      <td>5112.21</td>\n",
       "      <td>2024-11-04 08:08:08</td>\n",
       "      <td>0.331608</td>\n",
       "      <td>6</td>\n",
       "    </tr>\n",
       "    <tr>\n",
       "      <th>1</th>\n",
       "      <td>TX000002</td>\n",
       "      <td>AC00455</td>\n",
       "      <td>376.24</td>\n",
       "      <td>2023-06-27 16:44:19</td>\n",
       "      <td>Debit</td>\n",
       "      <td>Houston</td>\n",
       "      <td>D000051</td>\n",
       "      <td>13.149.61.4</td>\n",
       "      <td>M052</td>\n",
       "      <td>ATM</td>\n",
       "      <td>68</td>\n",
       "      <td>Doctor</td>\n",
       "      <td>141</td>\n",
       "      <td>1</td>\n",
       "      <td>13758.91</td>\n",
       "      <td>2024-11-04 08:09:35</td>\n",
       "      <td>0.331608</td>\n",
       "      <td>1</td>\n",
       "    </tr>\n",
       "    <tr>\n",
       "      <th>2</th>\n",
       "      <td>TX000003</td>\n",
       "      <td>AC00019</td>\n",
       "      <td>126.29</td>\n",
       "      <td>2023-07-10 18:16:08</td>\n",
       "      <td>Debit</td>\n",
       "      <td>Mesa</td>\n",
       "      <td>D000235</td>\n",
       "      <td>215.97.143.157</td>\n",
       "      <td>M009</td>\n",
       "      <td>ONLINE</td>\n",
       "      <td>19</td>\n",
       "      <td>Student</td>\n",
       "      <td>56</td>\n",
       "      <td>1</td>\n",
       "      <td>1122.35</td>\n",
       "      <td>2024-11-04 08:07:04</td>\n",
       "      <td>0.322850</td>\n",
       "      <td>3</td>\n",
       "    </tr>\n",
       "    <tr>\n",
       "      <th>3</th>\n",
       "      <td>TX000004</td>\n",
       "      <td>AC00070</td>\n",
       "      <td>184.50</td>\n",
       "      <td>2023-05-05 16:32:11</td>\n",
       "      <td>Debit</td>\n",
       "      <td>Raleigh</td>\n",
       "      <td>D000187</td>\n",
       "      <td>200.13.225.150</td>\n",
       "      <td>M002</td>\n",
       "      <td>ONLINE</td>\n",
       "      <td>26</td>\n",
       "      <td>Student</td>\n",
       "      <td>25</td>\n",
       "      <td>1</td>\n",
       "      <td>8569.06</td>\n",
       "      <td>2024-11-04 08:09:06</td>\n",
       "      <td>0.322850</td>\n",
       "      <td>3</td>\n",
       "    </tr>\n",
       "    <tr>\n",
       "      <th>4</th>\n",
       "      <td>TX000005</td>\n",
       "      <td>AC00411</td>\n",
       "      <td>13.45</td>\n",
       "      <td>2023-10-16 17:51:24</td>\n",
       "      <td>Credit</td>\n",
       "      <td>Atlanta</td>\n",
       "      <td>D000308</td>\n",
       "      <td>65.164.3.100</td>\n",
       "      <td>M091</td>\n",
       "      <td>ONLINE</td>\n",
       "      <td>26</td>\n",
       "      <td>Student</td>\n",
       "      <td>198</td>\n",
       "      <td>1</td>\n",
       "      <td>7429.40</td>\n",
       "      <td>2024-11-04 08:06:39</td>\n",
       "      <td>0.322850</td>\n",
       "      <td>3</td>\n",
       "    </tr>\n",
       "  </tbody>\n",
       "</table>\n",
       "</div>"
      ],
      "text/plain": [
       "  TransactionID AccountID  TransactionAmount      TransactionDate  \\\n",
       "0      TX000001   AC00128              14.09  2023-04-11 16:29:14   \n",
       "1      TX000002   AC00455             376.24  2023-06-27 16:44:19   \n",
       "2      TX000003   AC00019             126.29  2023-07-10 18:16:08   \n",
       "3      TX000004   AC00070             184.50  2023-05-05 16:32:11   \n",
       "4      TX000005   AC00411              13.45  2023-10-16 17:51:24   \n",
       "\n",
       "  TransactionType   Location DeviceID      IP Address MerchantID Channel  \\\n",
       "0           Debit  San Diego  D000380  162.198.218.92       M015     ATM   \n",
       "1           Debit    Houston  D000051     13.149.61.4       M052     ATM   \n",
       "2           Debit       Mesa  D000235  215.97.143.157       M009  ONLINE   \n",
       "3           Debit    Raleigh  D000187  200.13.225.150       M002  ONLINE   \n",
       "4          Credit    Atlanta  D000308    65.164.3.100       M091  ONLINE   \n",
       "\n",
       "   CustomerAge CustomerOccupation  TransactionDuration  LoginAttempts  \\\n",
       "0           70             Doctor                   81              1   \n",
       "1           68             Doctor                  141              1   \n",
       "2           19            Student                   56              1   \n",
       "3           26            Student                   25              1   \n",
       "4           26            Student                  198              1   \n",
       "\n",
       "   AccountBalance PreviousTransactionDate  ChannelFreq  cluster  \n",
       "0         5112.21     2024-11-04 08:08:08     0.331608        6  \n",
       "1        13758.91     2024-11-04 08:09:35     0.331608        1  \n",
       "2         1122.35     2024-11-04 08:07:04     0.322850        3  \n",
       "3         8569.06     2024-11-04 08:09:06     0.322850        3  \n",
       "4         7429.40     2024-11-04 08:06:39     0.322850        3  "
      ]
     },
     "metadata": {},
     "output_type": "display_data"
    }
   ],
   "source": [
    "km = KMeans(n_clusters=best_k, random_state=SEED, n_init=10)\n",
    "labels = km.fit_predict(X_std)\n",
    "\n",
    "df_clean[\"cluster\"] = labels\n",
    "display(df_clean.head())\n"
   ]
  },
  {
   "cell_type": "code",
   "execution_count": 22,
   "id": "49e75fae",
   "metadata": {},
   "outputs": [
    {
     "data": {
      "application/vnd.microsoft.datawrangler.viewer.v0+json": {
       "columns": [
        {
         "name": "cluster",
         "rawType": "int32",
         "type": "integer"
        },
        {
         "name": "('TransactionAmount', 'count')",
         "rawType": "int64",
         "type": "integer"
        },
        {
         "name": "('TransactionAmount', 'mean')",
         "rawType": "float64",
         "type": "float"
        },
        {
         "name": "('TransactionAmount', 'median')",
         "rawType": "float64",
         "type": "float"
        },
        {
         "name": "('TransactionAmount', 'std')",
         "rawType": "float64",
         "type": "float"
        },
        {
         "name": "('ChannelFreq', 'count')",
         "rawType": "int64",
         "type": "integer"
        },
        {
         "name": "('ChannelFreq', 'mean')",
         "rawType": "float64",
         "type": "float"
        },
        {
         "name": "('ChannelFreq', 'median')",
         "rawType": "float64",
         "type": "float"
        },
        {
         "name": "('ChannelFreq', 'std')",
         "rawType": "float64",
         "type": "float"
        }
       ],
       "ref": "338346ff-34ac-40b9-8cb1-a22cd97c762f",
       "rows": [
        [
         "0",
         "620",
         "146.3382419354839",
         "126.125",
         "101.37031433674133",
         "620",
         "0.34554140127388533",
         "0.34554140127388533",
         "0.0"
        ],
        [
         "1",
         "270",
         "380.461",
         "361.595",
         "99.88758131633162",
         "270",
         "0.33160828025477707",
         "0.33160828025477707",
         "0.0"
        ],
        [
         "2",
         "81",
         "1279.2276543209878",
         "1225.5",
         "210.08248537938374",
         "81",
         "0.3345423448926634",
         "0.33160828025477707",
         "0.008937178257719988"
        ],
        [
         "3",
         "456",
         "104.57782894736842",
         "94.91",
         "69.52146574901565",
         "456",
         "0.3228503184713376",
         "0.3228503184713376",
         "0.0"
        ],
        [
         "4",
         "179",
         "772.5588826815643",
         "745.95",
         "125.91707962560605",
         "179",
         "0.32730269010425933",
         "0.33160828025477707",
         "0.004390647397554629"
        ],
        [
         "5",
         "219",
         "566.0564383561643",
         "508.73",
         "161.97664735723902",
         "219",
         "0.34554140127388533",
         "0.34554140127388533",
         "0.0"
        ],
        [
         "6",
         "439",
         "100.21537585421413",
         "90.94",
         "69.28252319230772",
         "439",
         "0.33160828025477707",
         "0.33160828025477707",
         "0.0"
        ],
        [
         "7",
         "248",
         "389.3044758064516",
         "373.94",
         "93.68699294724634",
         "248",
         "0.3228503184713376",
         "0.3228503184713376",
         "0.0"
        ]
       ],
       "shape": {
        "columns": 8,
        "rows": 8
       }
      },
      "text/html": [
       "<div>\n",
       "<style scoped>\n",
       "    .dataframe tbody tr th:only-of-type {\n",
       "        vertical-align: middle;\n",
       "    }\n",
       "\n",
       "    .dataframe tbody tr th {\n",
       "        vertical-align: top;\n",
       "    }\n",
       "\n",
       "    .dataframe thead tr th {\n",
       "        text-align: left;\n",
       "    }\n",
       "\n",
       "    .dataframe thead tr:last-of-type th {\n",
       "        text-align: right;\n",
       "    }\n",
       "</style>\n",
       "<table border=\"1\" class=\"dataframe\">\n",
       "  <thead>\n",
       "    <tr>\n",
       "      <th></th>\n",
       "      <th colspan=\"4\" halign=\"left\">TransactionAmount</th>\n",
       "      <th colspan=\"4\" halign=\"left\">ChannelFreq</th>\n",
       "    </tr>\n",
       "    <tr>\n",
       "      <th></th>\n",
       "      <th>count</th>\n",
       "      <th>mean</th>\n",
       "      <th>median</th>\n",
       "      <th>std</th>\n",
       "      <th>count</th>\n",
       "      <th>mean</th>\n",
       "      <th>median</th>\n",
       "      <th>std</th>\n",
       "    </tr>\n",
       "    <tr>\n",
       "      <th>cluster</th>\n",
       "      <th></th>\n",
       "      <th></th>\n",
       "      <th></th>\n",
       "      <th></th>\n",
       "      <th></th>\n",
       "      <th></th>\n",
       "      <th></th>\n",
       "      <th></th>\n",
       "    </tr>\n",
       "  </thead>\n",
       "  <tbody>\n",
       "    <tr>\n",
       "      <th>0</th>\n",
       "      <td>620</td>\n",
       "      <td>146.338242</td>\n",
       "      <td>126.125</td>\n",
       "      <td>101.370314</td>\n",
       "      <td>620</td>\n",
       "      <td>0.345541</td>\n",
       "      <td>0.345541</td>\n",
       "      <td>0.000000</td>\n",
       "    </tr>\n",
       "    <tr>\n",
       "      <th>1</th>\n",
       "      <td>270</td>\n",
       "      <td>380.461000</td>\n",
       "      <td>361.595</td>\n",
       "      <td>99.887581</td>\n",
       "      <td>270</td>\n",
       "      <td>0.331608</td>\n",
       "      <td>0.331608</td>\n",
       "      <td>0.000000</td>\n",
       "    </tr>\n",
       "    <tr>\n",
       "      <th>2</th>\n",
       "      <td>81</td>\n",
       "      <td>1279.227654</td>\n",
       "      <td>1225.500</td>\n",
       "      <td>210.082485</td>\n",
       "      <td>81</td>\n",
       "      <td>0.334542</td>\n",
       "      <td>0.331608</td>\n",
       "      <td>0.008937</td>\n",
       "    </tr>\n",
       "    <tr>\n",
       "      <th>3</th>\n",
       "      <td>456</td>\n",
       "      <td>104.577829</td>\n",
       "      <td>94.910</td>\n",
       "      <td>69.521466</td>\n",
       "      <td>456</td>\n",
       "      <td>0.322850</td>\n",
       "      <td>0.322850</td>\n",
       "      <td>0.000000</td>\n",
       "    </tr>\n",
       "    <tr>\n",
       "      <th>4</th>\n",
       "      <td>179</td>\n",
       "      <td>772.558883</td>\n",
       "      <td>745.950</td>\n",
       "      <td>125.917080</td>\n",
       "      <td>179</td>\n",
       "      <td>0.327303</td>\n",
       "      <td>0.331608</td>\n",
       "      <td>0.004391</td>\n",
       "    </tr>\n",
       "    <tr>\n",
       "      <th>5</th>\n",
       "      <td>219</td>\n",
       "      <td>566.056438</td>\n",
       "      <td>508.730</td>\n",
       "      <td>161.976647</td>\n",
       "      <td>219</td>\n",
       "      <td>0.345541</td>\n",
       "      <td>0.345541</td>\n",
       "      <td>0.000000</td>\n",
       "    </tr>\n",
       "    <tr>\n",
       "      <th>6</th>\n",
       "      <td>439</td>\n",
       "      <td>100.215376</td>\n",
       "      <td>90.940</td>\n",
       "      <td>69.282523</td>\n",
       "      <td>439</td>\n",
       "      <td>0.331608</td>\n",
       "      <td>0.331608</td>\n",
       "      <td>0.000000</td>\n",
       "    </tr>\n",
       "    <tr>\n",
       "      <th>7</th>\n",
       "      <td>248</td>\n",
       "      <td>389.304476</td>\n",
       "      <td>373.940</td>\n",
       "      <td>93.686993</td>\n",
       "      <td>248</td>\n",
       "      <td>0.322850</td>\n",
       "      <td>0.322850</td>\n",
       "      <td>0.000000</td>\n",
       "    </tr>\n",
       "  </tbody>\n",
       "</table>\n",
       "</div>"
      ],
      "text/plain": [
       "        TransactionAmount                                    ChannelFreq  \\\n",
       "                    count         mean    median         std       count   \n",
       "cluster                                                                    \n",
       "0                     620   146.338242   126.125  101.370314         620   \n",
       "1                     270   380.461000   361.595   99.887581         270   \n",
       "2                      81  1279.227654  1225.500  210.082485          81   \n",
       "3                     456   104.577829    94.910   69.521466         456   \n",
       "4                     179   772.558883   745.950  125.917080         179   \n",
       "5                     219   566.056438   508.730  161.976647         219   \n",
       "6                     439   100.215376    90.940   69.282523         439   \n",
       "7                     248   389.304476   373.940   93.686993         248   \n",
       "\n",
       "                                       \n",
       "             mean    median       std  \n",
       "cluster                                \n",
       "0        0.345541  0.345541  0.000000  \n",
       "1        0.331608  0.331608  0.000000  \n",
       "2        0.334542  0.331608  0.008937  \n",
       "3        0.322850  0.322850  0.000000  \n",
       "4        0.327303  0.331608  0.004391  \n",
       "5        0.345541  0.345541  0.000000  \n",
       "6        0.331608  0.331608  0.000000  \n",
       "7        0.322850  0.322850  0.000000  "
      ]
     },
     "metadata": {},
     "output_type": "display_data"
    }
   ],
   "source": [
    "# cluster summary\n",
    "summary = df_clean.groupby(\"cluster\")[[\"TransactionAmount\",\"ChannelFreq\"]].agg([\"count\",\"mean\",\"median\",\"std\"])\n",
    "display(summary)\n",
    "\n"
   ]
  },
  {
   "cell_type": "code",
   "execution_count": null,
   "id": "45e27cd0",
   "metadata": {},
   "outputs": [
    {
     "data": {
      "image/png": "[encoded data removed]",
      "text/plain": [
       "<Figure size 800x600 with 1 Axes>"
      ]
     },
     "metadata": {},
     "output_type": "display_data"
    }
   ],
   "source": [
    "# PCA visualization\n",
    "pca = PCA(n_components=2, random_state=SEED)\n",
    "XY = pca.fit_transform(X_std)\n",
    "\n",
    "plt.figure(figsize=(8,6))\n",
    "for c in np.unique(labels):\n",
    "    plt.scatter(XY[labels==c,0], XY[labels==c,1], s=10, alpha=0.6, label=f\"Cluster {c}\")\n",
    "plt.title(f\"K-Means Clusters (k={best_k}) — TransactionAmount vs Channel\")\n",
    "plt.xlabel(\"PC1\")\n",
    "plt.ylabel(\"PC2\")\n",
    "plt.legend()\n",
    "plt.tight_layout()\n",
    "plt.show()"
   ]
  },
  {
   "cell_type": "code",
   "execution_count": null,
   "id": "3a24d7a3",
   "metadata": {},
   "outputs": [
    {
     "data": {
      "application/vnd.microsoft.datawrangler.viewer.v0+json": {
       "columns": [
        {
         "name": "index",
         "rawType": "int64",
         "type": "integer"
        },
        {
         "name": "TransactionAmount",
         "rawType": "float64",
         "type": "float"
        },
        {
         "name": "ChannelFreq",
         "rawType": "float64",
         "type": "float"
        }
       ],
       "ref": "9fa90b6b-9abb-4316-a35a-7f6070b7390a",
       "rows": [
        [
         "0",
         "398.94",
         "0.32"
        ],
        [
         "1",
         "367.92",
         "0.35"
        ],
        [
         "2",
         "105.21",
         "0.32"
        ],
        [
         "3",
         "862.07",
         "0.33"
        ],
        [
         "4",
         "438.59",
         "0.33"
        ],
        [
         "5",
         "102.45",
         "0.35"
        ],
        [
         "6",
         "115.49",
         "0.33"
        ],
        [
         "7",
         "770.44",
         "0.35"
        ],
        [
         "8",
         "1399.59",
         "0.34"
        ]
       ],
       "shape": {
        "columns": 2,
        "rows": 9
       }
      },
      "text/html": [
       "<div>\n",
       "<style scoped>\n",
       "    .dataframe tbody tr th:only-of-type {\n",
       "        vertical-align: middle;\n",
       "    }\n",
       "\n",
       "    .dataframe tbody tr th {\n",
       "        vertical-align: top;\n",
       "    }\n",
       "\n",
       "    .dataframe thead th {\n",
       "        text-align: right;\n",
       "    }\n",
       "</style>\n",
       "<table border=\"1\" class=\"dataframe\">\n",
       "  <thead>\n",
       "    <tr style=\"text-align: right;\">\n",
       "      <th></th>\n",
       "      <th>TransactionAmount</th>\n",
       "      <th>ChannelFreq</th>\n",
       "    </tr>\n",
       "  </thead>\n",
       "  <tbody>\n",
       "    <tr>\n",
       "      <th>0</th>\n",
       "      <td>398.94</td>\n",
       "      <td>0.32</td>\n",
       "    </tr>\n",
       "    <tr>\n",
       "      <th>1</th>\n",
       "      <td>367.92</td>\n",
       "      <td>0.35</td>\n",
       "    </tr>\n",
       "    <tr>\n",
       "      <th>2</th>\n",
       "      <td>105.21</td>\n",
       "      <td>0.32</td>\n",
       "    </tr>\n",
       "    <tr>\n",
       "      <th>3</th>\n",
       "      <td>862.07</td>\n",
       "      <td>0.33</td>\n",
       "    </tr>\n",
       "    <tr>\n",
       "      <th>4</th>\n",
       "      <td>438.59</td>\n",
       "      <td>0.33</td>\n",
       "    </tr>\n",
       "    <tr>\n",
       "      <th>5</th>\n",
       "      <td>102.45</td>\n",
       "      <td>0.35</td>\n",
       "    </tr>\n",
       "    <tr>\n",
       "      <th>6</th>\n",
       "      <td>115.49</td>\n",
       "      <td>0.33</td>\n",
       "    </tr>\n",
       "    <tr>\n",
       "      <th>7</th>\n",
       "      <td>770.44</td>\n",
       "      <td>0.35</td>\n",
       "    </tr>\n",
       "    <tr>\n",
       "      <th>8</th>\n",
       "      <td>1399.59</td>\n",
       "      <td>0.34</td>\n",
       "    </tr>\n",
       "  </tbody>\n",
       "</table>\n",
       "</div>"
      ],
      "text/plain": [
       "   TransactionAmount  ChannelFreq\n",
       "0             398.94         0.32\n",
       "1             367.92         0.35\n",
       "2             105.21         0.32\n",
       "3             862.07         0.33\n",
       "4             438.59         0.33\n",
       "5             102.45         0.35\n",
       "6             115.49         0.33\n",
       "7             770.44         0.35\n",
       "8            1399.59         0.34"
      ]
     },
     "metadata": {},
     "output_type": "display_data"
    }
   ],
   "source": [
    "# plotting the centroids\n",
    "centroids_orig = pd.DataFrame(\n",
    "    scaler.inverse_transform(km.cluster_centers_),\n",
    "    columns=['TransactionAmount', 'ChannelFreq']\n",
    ")\n",
    "display(centroids_orig.round(2))\n"
   ]
  },
  {
   "cell_type": "code",
   "execution_count": 26,
   "id": "63063c46",
   "metadata": {},
   "outputs": [
    {
     "data": {
      "image/png": "[encoded data removed]",
      "text/plain": [
       "<Figure size 800x600 with 1 Axes>"
      ]
     },
     "metadata": {},
     "output_type": "display_data"
    }
   ],
   "source": [
    "# PCA visualization\n",
    "pca = PCA(n_components=2, random_state=SEED)\n",
    "XY = pca.fit_transform(X_std)\n",
    "\n",
    "plt.figure(figsize=(8,6))\n",
    "for c in np.unique(labels):\n",
    "    plt.scatter(XY[labels==c,0], XY[labels==c,1], s=10, alpha=0.6, label=f\"Cluster {c}\")\n",
    "\n",
    "# --- Add centroids in PCA space ---\n",
    "centroids_2d = pca.transform(km.cluster_centers_)\n",
    "plt.scatter(centroids_2d[:, 0], centroids_2d[:, 1],\n",
    "            marker='X', s=300, linewidths=2, edgecolors='black', label='Centroids')\n",
    "for i, (x, y) in enumerate(centroids_2d):\n",
    "    plt.text(x, y, f'C{i}', ha='center', va='center', fontsize=10, weight='bold')\n",
    "\n",
    "plt.title(f\"K-Means Clusters (k={best_k}) — TransactionAmount vs Channel\")\n",
    "plt.xlabel(\"PC1\")\n",
    "plt.ylabel(\"PC2\")\n",
    "plt.legend()\n",
    "plt.tight_layout()\n",
    "plt.show()\n"
   ]
  },
  {
   "cell_type": "markdown",
   "id": "8fdaf1ea",
   "metadata": {},
   "source": [
    "`Talking Point`\n",
    "\n",
    "PCA is applied to reduce them to 2 principal components for visualization.\n",
    "\n",
    "This helps show the clusters clearly on a 2D scatter plot, while still representing over 90% of the original data variance\n",
    "\n",
    "`K-Means Output Interpretation`\n",
    "Clusters reveal transaction groups with distinct amount ranges and channel usage patterns.\n",
    "\n",
    "The High-amount transactions from rare channels often signal higher fraud risk, while low-amount, frequent-channel clusters represent routine customer behavior.  \n"
   ]
  },
  {
   "cell_type": "markdown",
   "id": "747634fc",
   "metadata": {},
   "source": [
    "### 🧩 **K-Means Clustering for Fraud Detection**\n",
    "\n",
    "This workshop applied **unsupervised machine learning** using the **K-Means algorithm** to uncover hidden patterns in financial transaction data based on two core features: `TransactionAmount` (monetary magnitude) and `Channel` (mode of transaction such as Online, POS, ATM, or Mobile). By quantifying channel frequency (`ChannelFreq`) and standardizing both variables, the analysis ensured balanced distance computation and prevented bias toward larger numerical ranges.\n",
    "\n",
    "An **optimal cluster number (k)** was determined using the **silhouette coefficient**, selecting the configuration with the highest inter-cluster separation and intra-cluster cohesion. The resulting clusters revealed distinct behavioral groupings that differentiate between normal and potentially suspicious transactions. In particular, **clusters with high transaction values and rare channel frequencies** emerged as possible indicators of **fraud risk**, suggesting anomalies that deviate from common user behavior.\n",
    "\n",
    "Overall, K-Means effectively identified **behavioral anomalies** and **spending patterns** that can support fraud detection systems, enhancing risk analysis through data-driven segmentation."
   ]
  }
 ],
 "metadata": {
  "kernelspec": {
   "display_name": ".venv",
   "language": "python",
   "name": "python3"
  },
  "language_info": {
   "codemirror_mode": {
    "name": "ipython",
    "version": 3
   },
   "file_extension": ".py",
   "mimetype": "text/x-python",
   "name": "python",
   "nbconvert_exporter": "python",
   "pygments_lexer": "ipython3",
   "version": "3.12.1"
  }
 },
 "nbformat": 4,
 "nbformat_minor": 5
}
